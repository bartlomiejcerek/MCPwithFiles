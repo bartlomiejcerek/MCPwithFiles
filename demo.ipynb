{
 "cells": [
  {
   "cell_type": "markdown",
   "id": "fefeef7a",
   "metadata": {},
   "source": [
    "#### Get MCP tools from server and test them"
   ]
  },
  {
   "cell_type": "code",
   "execution_count": 1,
   "id": "498237ec",
   "metadata": {},
   "outputs": [],
   "source": [
    "import utils\n",
    "\n",
    "# Set API key to env variable\n",
    "utils.init_openai()\n",
    "utils.init_langsmith()\n",
    "\n",
    "# Bartek localhost MCP Server URL\n",
    "mcp_server_url = \"http://127.0.0.1:8000/mcp\""
   ]
  },
  {
   "cell_type": "code",
   "execution_count": 2,
   "id": "bc65ae84",
   "metadata": {},
   "outputs": [
    {
     "data": {
      "text/plain": [
       "<fastmcp.client.client.Client at 0x1253e652dd0>"
      ]
     },
     "execution_count": 2,
     "metadata": {},
     "output_type": "execute_result"
    }
   ],
   "source": [
    "from fastmcp import Client\n",
    "\n",
    "# Create instance of the MCP client and manually start the session\n",
    "# This allows to create tools and use them in different contexts without context managers\n",
    "# Requires manual cleanup of the session\n",
    "client = Client(mcp_server_url)\n",
    "await client.__aenter__()"
   ]
  },
  {
   "cell_type": "code",
   "execution_count": 3,
   "id": "d295b456",
   "metadata": {},
   "outputs": [
    {
     "data": {
      "text/plain": [
       "[StructuredTool(name='add_numbers', description='Adds two integers and returns the result.\\n\\nArguments:\\n  a: First integer.\\n  b: Second integer.\\n\\nReturns:\\n  A dict with the sum of a and b.', args_schema={'properties': {'a': {'title': 'A', 'type': 'integer'}, 'b': {'title': 'B', 'type': 'integer'}}, 'required': ['a', 'b'], 'type': 'object'}, response_format='content_and_artifact', coroutine=<function convert_mcp_tool_to_langchain_tool.<locals>.call_tool at 0x0000012541264400>),\n",
       " StructuredTool(name='read_first_line', description=\"Accepts a base64‑encoded file content as a string.\\nSaves it in the root folder, reads only the first line,\\nand returns it alongside full length and file location.\\n\\nArguments:\\n  file_as_b64: Base64‑encoded content of a text file.\\n\\nReturns:\\n  A dict with keys 'first_line', 'length', and 'path'.\", args_schema={'properties': {'file_as_b64': {'title': 'File As B64', 'type': 'string'}}, 'required': ['file_as_b64'], 'type': 'object'}, response_format='content_and_artifact', coroutine=<function convert_mcp_tool_to_langchain_tool.<locals>.call_tool at 0x0000012541264220>)]"
      ]
     },
     "execution_count": 3,
     "metadata": {},
     "output_type": "execute_result"
    }
   ],
   "source": [
    "from langchain_mcp_adapters.tools import load_mcp_tools\n",
    "\n",
    "tools = await load_mcp_tools(client.session)\n",
    "tools\n"
   ]
  },
  {
   "cell_type": "code",
   "execution_count": 4,
   "id": "842570af",
   "metadata": {},
   "outputs": [
    {
     "data": {
      "text/plain": [
       "'{\"sum\":5}'"
      ]
     },
     "execution_count": 4,
     "metadata": {},
     "output_type": "execute_result"
    }
   ],
   "source": [
    "# Test simple add_numbers tool\n",
    "await tools[0].ainvoke({\"a\": 2, \"b\": 3})"
   ]
  },
  {
   "cell_type": "code",
   "execution_count": 5,
   "id": "5c15f7b8",
   "metadata": {},
   "outputs": [],
   "source": [
    "import base64\n",
    "\n",
    "def encode_file_to_base64(file_path: str) -> str:\n",
    "    \"\"\"\n",
    "    Reads a file from the given path and encodes its contents to a base64 string.\n",
    "\n",
    "    Args:\n",
    "        file_path (str): Path to the file.\n",
    "\n",
    "    Returns:\n",
    "        str: Base64-encoded string of the file contents.\n",
    "    \"\"\"\n",
    "    with open(file_path, \"rb\") as file:\n",
    "        file_content = file.read()\n",
    "    encoded = base64.b64encode(file_content).decode('utf-8')\n",
    "    return encoded"
   ]
  },
  {
   "cell_type": "code",
   "execution_count": 6,
   "id": "4543ed64",
   "metadata": {},
   "outputs": [
    {
     "name": "stdout",
     "output_type": "stream",
     "text": [
      "VGhpcyBpcyBleGFtcGxlIGJvaS4NCg0KVGhlcmUgaXMgYSBsb3Qgb2Yga25vd2xlZGdlIGhlcmUuIA0KSW1wb3NzaWJsZSB0byBjb21wcmVoZW5kIGFsbCBvZiBpdC4NCg==\n",
      "{\"first_line\":\"This is example boi.\",\"length\":\"4\",\"path\":\"tmp.txt\"}\n"
     ]
    }
   ],
   "source": [
    "# Test tool that accepts file as base64 encoded string\n",
    "encoded_example_file = encode_file_to_base64(\"./example.txt\")\n",
    "result = await tools[1].ainvoke({\"file_as_b64\": encoded_example_file})\n",
    "\n",
    "print(encoded_example_file)\n",
    "print(result)"
   ]
  },
  {
   "cell_type": "markdown",
   "id": "c520ddcf",
   "metadata": {},
   "source": [
    "#### Define Graph of Agent"
   ]
  },
  {
   "cell_type": "code",
   "execution_count": 7,
   "id": "db2ee272",
   "metadata": {},
   "outputs": [
    {
     "data": {
      "text/plain": [
       "RunnableBinding(bound=ChatOpenAI(client=<openai.resources.chat.completions.completions.Completions object at 0x0000012544B63690>, async_client=<openai.resources.chat.completions.completions.AsyncCompletions object at 0x0000012544FABED0>, root_client=<openai.OpenAI object at 0x0000012544B63650>, root_async_client=<openai.AsyncOpenAI object at 0x0000012544FAB9D0>, model_name='gpt-4o-mini', model_kwargs={}, openai_api_key=SecretStr('**********')), kwargs={'tools': [{'type': 'function', 'function': {'name': 'add_numbers', 'description': 'Adds two integers and returns the result.\\n\\nArguments:\\n  a: First integer.\\n  b: Second integer.\\n\\nReturns:\\n  A dict with the sum of a and b.', 'parameters': {'properties': {'a': {'type': 'integer'}, 'b': {'type': 'integer'}}, 'required': ['a', 'b'], 'type': 'object'}}}, {'type': 'function', 'function': {'name': 'read_first_line', 'description': \"Accepts a base64‑encoded file content as a string.\\nSaves it in the root folder, reads only the first line,\\nand returns it alongside full length and file location.\\n\\nArguments:\\n  file_as_b64: Base64‑encoded content of a text file.\\n\\nReturns:\\n  A dict with keys 'first_line', 'length', and 'path'.\", 'parameters': {'properties': {'file_as_b64': {'type': 'string'}}, 'required': ['file_as_b64'], 'type': 'object'}}}]}, config={}, config_factories=[])"
      ]
     },
     "execution_count": 7,
     "metadata": {},
     "output_type": "execute_result"
    }
   ],
   "source": [
    "from langchain_openai import ChatOpenAI\n",
    "\n",
    "llm = ChatOpenAI(model=\"gpt-4o-mini\")\n",
    "llm_with_tools = llm.bind_tools(tools)\n",
    "llm_with_tools\n"
   ]
  },
  {
   "cell_type": "code",
   "execution_count": 8,
   "id": "c2326074",
   "metadata": {},
   "outputs": [
    {
     "data": {
      "image/png": "[encoded data removed]",
      "text/plain": [
       "<IPython.core.display.Image object>"
      ]
     },
     "metadata": {},
     "output_type": "display_data"
    }
   ],
   "source": [
    "from typing import Optional\n",
    "from langchain_core.messages import SystemMessage, AIMessage\n",
    "from langgraph.graph import MessagesState\n",
    "from langgraph.graph import START, StateGraph\n",
    "from langgraph.prebuilt import tools_condition\n",
    "from langgraph.prebuilt import ToolNode\n",
    "from IPython.display import Image, display\n",
    "\n",
    "\n",
    "class State(MessagesState):\n",
    "    file_path: Optional[str]\n",
    "\n",
    "default_tool_node = ToolNode(tools)\n",
    "\n",
    "# System message\n",
    "sys_msg = SystemMessage(\n",
    "    content=\"You are a helpful assistant that has access to some cool tools.\" \\\n",
    "            \"If the argument in the tool you are using is file in base64 (b64) instead ALWAYS pass path to this file.\" )\n",
    "\n",
    "def model_call(state: State):\n",
    "   # This node simulates model calls - to not instantiate memory and sessions I run it stateless\n",
    "   file_message = SystemMessage(content=f\"User has added a file to the this conversation with the path: {state['file_path']}.\")\n",
    "   return {\"messages\": [llm_with_tools.invoke([sys_msg] + [file_message] + state[\"messages\"])]}\n",
    "\n",
    "async def tools_call(state: State):\n",
    "    # This node simulates child class of the ToolNode. \n",
    "    # It should implement custom file handling while allowing for standard functionality of the ToolNode\n",
    "    # Check tool calling parameters and if they contain file_as_b46 keyword - get file and convert to base64\n",
    "    \n",
    "    if isinstance(state[\"messages\"][-1], AIMessage):\n",
    "        tool_call_args = state[\"messages\"][-1].tool_calls[0]['args']\n",
    "        if \"file_as_b64\" in tool_call_args:\n",
    "            state[\"messages\"][-1].tool_calls[0]['args'][\"file_as_b64\"] = encode_file_to_base64(tool_call_args[\"file_as_b64\"])\n",
    "        else:\n",
    "            pass\n",
    "    \n",
    "    result = await default_tool_node.ainvoke(state)\n",
    "\n",
    "    return result\n",
    "   \n",
    "\n",
    "# Graph\n",
    "builder = StateGraph(State)\n",
    "\n",
    "# Define nodes: these do the work\n",
    "builder.add_node(\"model_call\", model_call)\n",
    "builder.add_node(\"tools\", tools_call)\n",
    "\n",
    "# Define edges: these determine how the control flow moves\n",
    "builder.add_edge(START, \"model_call\")\n",
    "builder.add_conditional_edges(\n",
    "    \"model_call\",\n",
    "    # If the latest message (result) from assistant is a tool call -> tools_condition routes to tools\n",
    "    # If the latest message (result) from assistant is a not a tool call -> tools_condition routes to END\n",
    "    tools_condition,\n",
    ")\n",
    "builder.add_edge(\"tools\", \"model_call\")\n",
    "react_graph = builder.compile()\n",
    "\n",
    "# Show\n",
    "display(Image(react_graph.get_graph(xray=True).draw_mermaid_png()))"
   ]
  },
  {
   "cell_type": "markdown",
   "id": "12736287",
   "metadata": {},
   "source": [
    "#### Test The Agent"
   ]
  },
  {
   "cell_type": "code",
   "execution_count": 9,
   "id": "e4688a49",
   "metadata": {},
   "outputs": [
    {
     "name": "stdout",
     "output_type": "stream",
     "text": [
      "================================\u001b[1m Human Message \u001b[0m=================================\n",
      "\n",
      "Hello! What is first line of a file I uploaded?\n",
      "==================================\u001b[1m Ai Message \u001b[0m==================================\n",
      "Tool Calls:\n",
      "  read_first_line (call_mCksveFOPWkPyCECC6Zt1oQC)\n",
      " Call ID: call_mCksveFOPWkPyCECC6Zt1oQC\n",
      "  Args:\n",
      "    file_as_b64: VGhpcyBpcyBleGFtcGxlIGJvaS4NCg0KVGhlcmUgaXMgYSBsb3Qgb2Yga25vd2xlZGdlIGhlcmUuIA0KSW1wb3NzaWJsZSB0byBjb21wcmVoZW5kIGFsbCBvZiBpdC4NCg==\n",
      "=================================\u001b[1m Tool Message \u001b[0m=================================\n",
      "Name: read_first_line\n",
      "\n",
      "{\"first_line\":\"This is example boi.\",\"length\":\"4\",\"path\":\"tmp.txt\"}\n",
      "==================================\u001b[1m Ai Message \u001b[0m==================================\n",
      "\n",
      "The first line of the file you uploaded is: **\"This is example boi.\"**\n"
     ]
    }
   ],
   "source": [
    "from langchain_core.messages import HumanMessage\n",
    "\n",
    "# This is example of user sending a message and a file\n",
    "# File will be added in UI, uploaded to conversation and its path/id added as follows to agent state \n",
    "messages = await react_graph.ainvoke({\"messages\": HumanMessage(content=\"Hello! What is first line of a file I uploaded?\"), \"file_path\": \"./example.txt\"}) # type: ignore\n",
    "for m in messages['messages']:\n",
    "    m.pretty_print()"
   ]
  },
  {
   "cell_type": "code",
   "execution_count": 115,
   "id": "289b4ae5",
   "metadata": {},
   "outputs": [],
   "source": [
    "# Cleanup of the client session\n",
    "await client.__aexit__(None, None, None)"
   ]
  }
 ],
 "metadata": {
  "kernelspec": {
   "display_name": "agents-demo",
   "language": "python",
   "name": "python3"
  },
  "language_info": {
   "codemirror_mode": {
    "name": "ipython",
    "version": 3
   },
   "file_extension": ".py",
   "mimetype": "text/x-python",
   "name": "python",
   "nbconvert_exporter": "python",
   "pygments_lexer": "ipython3",
   "version": "3.11.13"
  }
 },
 "nbformat": 4,
 "nbformat_minor": 5
}
