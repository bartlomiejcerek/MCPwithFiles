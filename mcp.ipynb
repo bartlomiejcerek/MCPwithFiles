{
 "cells": [
  {
   "cell_type": "markdown",
   "id": "e8c47f77",
   "metadata": {},
   "source": [
    "# Interoperability via MCP\n",
    "\n",
    "What is Model Context Protocol and how does it help to extend and simplify agentic systems? \n"
   ]
  },
  {
   "cell_type": "markdown",
   "id": "8b386631",
   "metadata": {},
   "source": [
    "<img src=\"img/0.png\" alt=\"Agent using tools\" width=\"750\">\n",
    "\n",
    "Agents are truly useful only after they start to interact with the real world - they do it using tools!"
   ]
  },
  {
   "cell_type": "markdown",
   "id": "cee113e9",
   "metadata": {},
   "source": [
    "<img src=\"img/1.png\" alt=\"Equip your agent\" width=\"750\">\n",
    "\n",
    "MCP is the universal way to expose tools to your agents!"
   ]
  },
  {
   "cell_type": "markdown",
   "id": "a0dd5dcc",
   "metadata": {},
   "source": [
    "<img src=\"img/2.png\" alt=\"MCP Anthropic\" width=\"750\">\n",
    "\n",
    "Anthropic, one of leading AI companies introduced MCP as open source standard for agentic tool usage.  "
   ]
  },
  {
   "cell_type": "code",
   "execution_count": 12,
   "id": "cab62bc0",
   "metadata": {},
   "outputs": [],
   "source": [
    "MCP_SERVER_URL = \"http://127.0.0.1:8000/mcp\""
   ]
  },
  {
   "cell_type": "markdown",
   "id": "11f5a301",
   "metadata": {},
   "source": [
    "### Discovery - the hard way\n",
    "Let's see that behind the MCP server magic there is standard JSON-RPC protocol"
   ]
  },
  {
   "cell_type": "code",
   "execution_count": 13,
   "id": "aa96843d",
   "metadata": {},
   "outputs": [
    {
     "data": {
      "text/plain": [
       "'event: message\\r\\ndata: {\"jsonrpc\":\"2.0\",\"id\":2,\"result\":{\"tools\":[{\"name\":\"add\",\"description\":\"Return the sum of two numbers.\",\"inputSchema\":{\"properties\":{\"a\":{\"title\":\"A\",\"type\":\"integer\"},\"b\":{\"title\":\"B\",\"type\":\"integer\"}},\"required\":[\"a\",\"b\"],\"title\":\"addArguments\",\"type\":\"object\"},\"outputSchema\":{\"properties\":{\"result\":{\"title\":\"Result\",\"type\":\"integer\"}},\"required\":[\"result\"],\"title\":\"addOutput\",\"type\":\"object\"}},{\"name\":\"subtract\",\"description\":\"Return the subtraction of two numbers.\",\"inputSchema\":{\"properties\":{\"a\":{\"title\":\"A\",\"type\":\"integer\"},\"b\":{\"title\":\"B\",\"type\":\"integer\"}},\"required\":[\"a\",\"b\"],\"title\":\"subtractArguments\",\"type\":\"object\"},\"outputSchema\":{\"properties\":{\"result\":{\"title\":\"Result\",\"type\":\"integer\"}},\"required\":[\"result\"],\"title\":\"subtractOutput\",\"type\":\"object\"}}]}}\\r\\n\\r\\n'"
      ]
     },
     "execution_count": 13,
     "metadata": {},
     "output_type": "execute_result"
    }
   ],
   "source": [
    "import requests\n",
    "\n",
    "COMMON_HEADERS = {\n",
    "    \"Accept\": \"application/json, text/event-stream\",\n",
    "    \"Content-Type\": \"application/json\",\n",
    "    \"MCP-Protocol-Version\": \"2025-06-18\",\n",
    "}\n",
    "\n",
    "def rcp_post(method, params=None, headers=None, id_=1):\n",
    "    payload = {\"jsonrpc\": \"2.0\", \"id\": id_, \"method\": method}\n",
    "    if params is not None:\n",
    "        payload[\"params\"] = params\n",
    "    r = requests.post(MCP_SERVER_URL, json=payload, headers= headers or COMMON_HEADERS, timeout=10)\n",
    "    r.raise_for_status()\n",
    "    return r\n",
    "\n",
    "# 1) Initialize \n",
    "init_resp = rcp_post(\n",
    "    \"initialize\",\n",
    "    {\n",
    "        \"protocolVersion\": \"2025-06-18\",\n",
    "        \"capabilities\": {},\n",
    "        \"clientInfo\": {\"name\": \"demo-client\", \"version\": \"0.1.0\"},\n",
    "    }\n",
    ")\n",
    "\n",
    "# 2) Capture session id from response headers\n",
    "session_id = init_resp.headers.get(\"Mcp-Session-Id\")\n",
    "HEADERS_WITH_SESSION = {**COMMON_HEADERS, \"Mcp-Session-Id\": session_id}\n",
    "\n",
    "# 3) Send notifications/initialized (notification: no id required)\n",
    "notif = requests.post(\n",
    "    MCP_SERVER_URL,\n",
    "    json={\"jsonrpc\": \"2.0\", \"method\": \"notifications/initialized\"},\n",
    "    headers=HEADERS_WITH_SESSION,\n",
    "    timeout=10,\n",
    ")\n",
    "notif.raise_for_status()\n",
    "\n",
    "# 4) discovery = tools/list\n",
    "tools_resp = rcp_post(\"tools/list\", {}, headers=HEADERS_WITH_SESSION, id_=2)\n",
    "tools_resp.text"
   ]
  },
  {
   "cell_type": "markdown",
   "id": "0f2491a4",
   "metadata": {},
   "source": [
    "### Discovery - the easy way"
   ]
  },
  {
   "cell_type": "code",
   "execution_count": 14,
   "id": "3650a17d",
   "metadata": {},
   "outputs": [
    {
     "data": {
      "text/plain": [
       "[StructuredTool(name='add', description='Return the sum of two numbers.', args_schema={'properties': {'a': {'title': 'A', 'type': 'integer'}, 'b': {'title': 'B', 'type': 'integer'}}, 'required': ['a', 'b'], 'title': 'addArguments', 'type': 'object'}, response_format='content_and_artifact', coroutine=<function convert_mcp_tool_to_langchain_tool.<locals>.call_tool at 0x000002C6AB852520>),\n",
       " StructuredTool(name='subtract', description='Return the subtraction of two numbers.', args_schema={'properties': {'a': {'title': 'A', 'type': 'integer'}, 'b': {'title': 'B', 'type': 'integer'}}, 'required': ['a', 'b'], 'title': 'subtractArguments', 'type': 'object'}, response_format='content_and_artifact', coroutine=<function convert_mcp_tool_to_langchain_tool.<locals>.call_tool at 0x000002C6AB8523E0>)]"
      ]
     },
     "execution_count": 14,
     "metadata": {},
     "output_type": "execute_result"
    }
   ],
   "source": [
    "from mcp import ClientSession\n",
    "from mcp.client.streamable_http import streamablehttp_client\n",
    "\n",
    "from langchain_mcp_adapters.tools import load_mcp_tools\n",
    "\n",
    "\n",
    "\n",
    "async with streamablehttp_client(MCP_SERVER_URL) as (read, write, _):\n",
    "    async with ClientSession(read, write) as session:\n",
    "        await session.initialize()\n",
    "        tools = await load_mcp_tools(session)\n",
    "\n",
    "tools"
   ]
  },
  {
   "cell_type": "markdown",
   "id": "d2c2f229",
   "metadata": {},
   "source": [
    "### Tool calls"
   ]
  },
  {
   "cell_type": "code",
   "execution_count": 15,
   "id": "4323e6b4",
   "metadata": {},
   "outputs": [
    {
     "data": {
      "text/plain": [
       "'5'"
      ]
     },
     "execution_count": 15,
     "metadata": {},
     "output_type": "execute_result"
    }
   ],
   "source": [
    "async with streamablehttp_client(MCP_SERVER_URL) as (read, write, _):\n",
    "    async with ClientSession(read, write) as session:\n",
    "        await session.initialize()\n",
    "        tools = await load_mcp_tools(session)\n",
    "\n",
    "        result = await tools[0].ainvoke({\"a\": 2, \"b\": 3})\n",
    "\n",
    "result"
   ]
  },
  {
   "cell_type": "markdown",
   "id": "09fe9ed8",
   "metadata": {},
   "source": [
    "### Agent Calling Tools\n",
    "\n",
    "Let's initialize our connection to MCP server without Python context manager and pass the tools to LangGrpah agent"
   ]
  },
  {
   "cell_type": "code",
   "execution_count": 16,
   "id": "705cf413",
   "metadata": {},
   "outputs": [
    {
     "data": {
      "text/plain": [
       "InitializeResult(meta=None, protocolVersion='2025-06-18', capabilities=ServerCapabilities(experimental={}, logging=None, prompts=PromptsCapability(listChanged=False), resources=ResourcesCapability(subscribe=False, listChanged=False), tools=ToolsCapability(listChanged=False), completions=None), serverInfo=Implementation(name='barts-mcp-server', title=None, version='1.12.2'), instructions=None)"
      ]
     },
     "execution_count": 16,
     "metadata": {},
     "output_type": "execute_result"
    }
   ],
   "source": [
    "# Quick connection example without context manager - in real application would require session cleanup!\n",
    "\n",
    "from mcp import ClientSession\n",
    "from mcp.client.streamable_http import streamablehttp_client\n",
    "\n",
    "client_ctx = streamablehttp_client(MCP_SERVER_URL)\n",
    "read, write, _ = await client_ctx.__aenter__()   # manual enter\n",
    "\n",
    "session_ctx = ClientSession(read, write)\n",
    "session = await session_ctx.__aenter__()\n",
    "await session.initialize()"
   ]
  },
  {
   "cell_type": "code",
   "execution_count": 17,
   "id": "602508c8",
   "metadata": {},
   "outputs": [
    {
     "data": {
      "text/plain": [
       "[StructuredTool(name='add', description='Return the sum of two numbers.', args_schema={'properties': {'a': {'title': 'A', 'type': 'integer'}, 'b': {'title': 'B', 'type': 'integer'}}, 'required': ['a', 'b'], 'title': 'addArguments', 'type': 'object'}, response_format='content_and_artifact', coroutine=<function convert_mcp_tool_to_langchain_tool.<locals>.call_tool at 0x000002C6AB6F68E0>),\n",
       " StructuredTool(name='subtract', description='Return the subtraction of two numbers.', args_schema={'properties': {'a': {'title': 'A', 'type': 'integer'}, 'b': {'title': 'B', 'type': 'integer'}}, 'required': ['a', 'b'], 'title': 'subtractArguments', 'type': 'object'}, response_format='content_and_artifact', coroutine=<function convert_mcp_tool_to_langchain_tool.<locals>.call_tool at 0x000002C6AB6F77E0>)]"
      ]
     },
     "execution_count": 17,
     "metadata": {},
     "output_type": "execute_result"
    }
   ],
   "source": [
    "tools = await load_mcp_tools(session)\n",
    "tools"
   ]
  },
  {
   "cell_type": "code",
   "execution_count": 18,
   "id": "414303cf",
   "metadata": {},
   "outputs": [],
   "source": [
    "import utils\n",
    "\n",
    "# Set API key to env variable\n",
    "utils.init_openai()"
   ]
  },
  {
   "cell_type": "code",
   "execution_count": 19,
   "id": "f511c10d",
   "metadata": {},
   "outputs": [
    {
     "data": {
      "text/plain": [
       "ChatOpenAI(client=<openai.resources.chat.completions.completions.Completions object at 0x000002C6AB839E90>, async_client=<openai.resources.chat.completions.completions.AsyncCompletions object at 0x000002C6AB83ACD0>, root_client=<openai.OpenAI object at 0x000002C6AB842510>, root_async_client=<openai.AsyncOpenAI object at 0x000002C6A9B41C90>, model_name='gpt-4o-mini', model_kwargs={}, openai_api_key=SecretStr('**********'))"
      ]
     },
     "execution_count": 19,
     "metadata": {},
     "output_type": "execute_result"
    }
   ],
   "source": [
    "from langchain_openai import ChatOpenAI\n",
    "\n",
    "llm = ChatOpenAI(model=\"gpt-4o-mini\")\n",
    "llm"
   ]
  },
  {
   "cell_type": "code",
   "execution_count": 20,
   "id": "d35aaf39",
   "metadata": {},
   "outputs": [
    {
     "data": {
      "image/png": "[encoded data removed]",
      "text/plain": [
       "<langgraph.graph.state.CompiledStateGraph object at 0x000002C6AB835050>"
      ]
     },
     "execution_count": 20,
     "metadata": {},
     "output_type": "execute_result"
    }
   ],
   "source": [
    "from langgraph.prebuilt import create_react_agent\n",
    "from langgraph.checkpoint.memory import MemorySaver\n",
    "\n",
    "\n",
    "memory = MemorySaver()\n",
    "agent = create_react_agent(llm, tools, checkpointer=memory)\n",
    "agent"
   ]
  },
  {
   "cell_type": "markdown",
   "id": "72064ca6",
   "metadata": {},
   "source": [
    "### Let's talk it over"
   ]
  },
  {
   "cell_type": "code",
   "execution_count": 21,
   "id": "3b90fe75",
   "metadata": {},
   "outputs": [
    {
     "name": "stdout",
     "output_type": "stream",
     "text": [
      "================================\u001b[1m Human Message \u001b[0m=================================\n",
      "\n",
      "Surprise me, take numbers 2 and 3 and get some new number from them by doing the following:    Perform 2 mathematical operations on numbers 2 and 3, whichever you like.     Then do 3rd and final operation where two inputs will be results of previous operations.     Return the final result to me as a number and tell me why you like it.\n",
      "==================================\u001b[1m Ai Message \u001b[0m==================================\n",
      "Tool Calls:\n",
      "  add (call_LmXnj9TswLta3N8ux7jZTVqn)\n",
      " Call ID: call_LmXnj9TswLta3N8ux7jZTVqn\n",
      "  Args:\n",
      "    a: 2\n",
      "    b: 3\n",
      "  subtract (call_wRbWbH1FQn7b0f8irglEm9fq)\n",
      " Call ID: call_wRbWbH1FQn7b0f8irglEm9fq\n",
      "  Args:\n",
      "    a: 3\n",
      "    b: 2\n",
      "=================================\u001b[1m Tool Message \u001b[0m=================================\n",
      "Name: add\n",
      "\n",
      "5\n",
      "=================================\u001b[1m Tool Message \u001b[0m=================================\n",
      "Name: subtract\n",
      "\n",
      "1\n",
      "==================================\u001b[1m Ai Message \u001b[0m==================================\n",
      "Tool Calls:\n",
      "  add (call_Prx17Yy2LTjhB9ZqTq4tkMVD)\n",
      " Call ID: call_Prx17Yy2LTjhB9ZqTq4tkMVD\n",
      "  Args:\n",
      "    a: 5\n",
      "    b: 1\n",
      "=================================\u001b[1m Tool Message \u001b[0m=================================\n",
      "Name: add\n",
      "\n",
      "6\n",
      "==================================\u001b[1m Ai Message \u001b[0m==================================\n",
      "\n",
      "The final result is **6**. \n",
      "\n",
      "Here’s the breakdown of the operations I performed:\n",
      "\n",
      "1. **Addition of 2 and 3**: \\(2 + 3 = 5\\)\n",
      "2. **Subtraction of 3 and 2**: \\(3 - 2 = 1\\)\n",
      "3. **Final Addition of results**: \\(5 + 1 = 6\\)\n",
      "\n",
      "I like the number 6 because it’s a perfect number, which means it is equal to the sum of its divisors (1, 2, and 3). It’s also a symbol of balance and harmony in various cultures!\n"
     ]
    }
   ],
   "source": [
    "from langchain_core.messages import HumanMessage\n",
    "\n",
    "config = {\"configurable\": {\"thread_id\": \"1\"}}\n",
    "\n",
    "# Script:\n",
    "m1 = \"Hey! Can you use some tools? Maybe you can list them to me?\"\n",
    "m2 = \"That is great. Can you add for me 2 and 4?\"\n",
    "m3 =\"Surprise me, take numbers 2 and 3 and get some new number from them by doing the following:\\\n",
    "    Perform 2 mathematical operations on numbers 2 and 3, whichever you like. \\\n",
    "    Then do 3rd and final operation where two inputs will be results of previous operations. \\\n",
    "    Return the final result to me as a number and tell me why you like it.\"\n",
    "\n",
    "\n",
    "messages = await agent.ainvoke({\"messages\": HumanMessage(content=m3)}, config) # type: ignore\n",
    "for m in messages['messages']:\n",
    "    m.pretty_print()"
   ]
  }
 ],
 "metadata": {
  "kernelspec": {
   "display_name": "agents-demo",
   "language": "python",
   "name": "python3"
  },
  "language_info": {
   "codemirror_mode": {
    "name": "ipython",
    "version": 3
   },
   "file_extension": ".py",
   "mimetype": "text/x-python",
   "name": "python",
   "nbconvert_exporter": "python",
   "pygments_lexer": "ipython3",
   "version": "3.11.13"
  }
 },
 "nbformat": 4,
 "nbformat_minor": 5
}
